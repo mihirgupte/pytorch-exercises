{
  "nbformat": 4,
  "nbformat_minor": 0,
  "metadata": {
    "colab": {
      "name": "pytorch basics.ipynb",
      "provenance": [],
      "authorship_tag": "ABX9TyN0gDuXq94Hhb4ZTkhRZIWH",
      "include_colab_link": true
    },
    "kernelspec": {
      "name": "python3",
      "display_name": "Python 3"
    },
    "language_info": {
      "name": "python"
    }
  },
  "cells": [
    {
      "cell_type": "markdown",
      "metadata": {
        "id": "view-in-github",
        "colab_type": "text"
      },
      "source": [
        "<a href=\"https://colab.research.google.com/github/mihirgupte/pytorch-exercises/blob/main/linear%20regression%20using%20pytorch.ipynb\" target=\"_parent\"><img src=\"https://colab.research.google.com/assets/colab-badge.svg\" alt=\"Open In Colab\"/></a>"
      ]
    },
    {
      "cell_type": "code",
      "metadata": {
        "id": "Xhkt2m-w89je"
      },
      "source": [
        "import torch"
      ],
      "execution_count": 1,
      "outputs": []
    },
    {
      "cell_type": "code",
      "metadata": {
        "colab": {
          "base_uri": "https://localhost:8080/"
        },
        "id": "9f_Nr0AL9QDe",
        "outputId": "0e0cc7d8-68de-47e1-96bf-7e766cf18153"
      },
      "source": [
        "t1 = torch.tensor([[1,2,4,3.],[4.,5,6,3]])\n",
        "t1.shape"
      ],
      "execution_count": 2,
      "outputs": [
        {
          "output_type": "execute_result",
          "data": {
            "text/plain": [
              "torch.Size([2, 4])"
            ]
          },
          "metadata": {
            "tags": []
          },
          "execution_count": 2
        }
      ]
    },
    {
      "cell_type": "code",
      "metadata": {
        "colab": {
          "base_uri": "https://localhost:8080/"
        },
        "id": "n-m6OZeR-2kW",
        "outputId": "a14af6d1-d3f3-4377-8c38-3fee90978217"
      },
      "source": [
        "x = torch.tensor(5.,requires_grad=True)\n",
        "w = torch.tensor(4.)\n",
        "b = torch.tensor(3.)\n",
        "print(w)"
      ],
      "execution_count": 3,
      "outputs": [
        {
          "output_type": "stream",
          "text": [
            "tensor(4.)\n"
          ],
          "name": "stdout"
        }
      ]
    },
    {
      "cell_type": "code",
      "metadata": {
        "colab": {
          "base_uri": "https://localhost:8080/"
        },
        "id": "m5broGEs_AuJ",
        "outputId": "7a797f2b-4948-40b4-8ab2-f01cdeb82ccf"
      },
      "source": [
        "y = w*x+b\n",
        "y.backward()\n",
        "print(x.grad,w.grad,b.grad)"
      ],
      "execution_count": 4,
      "outputs": [
        {
          "output_type": "stream",
          "text": [
            "tensor(4.) None None\n"
          ],
          "name": "stdout"
        }
      ]
    },
    {
      "cell_type": "code",
      "metadata": {
        "colab": {
          "base_uri": "https://localhost:8080/"
        },
        "id": "_wXGT_EbBR07",
        "outputId": "20c87bd8-6fd4-4e06-a48d-9b2b16838455"
      },
      "source": [
        "import numpy as np\n",
        "x  = np.array([1,2,3])\n",
        "print(x)\n",
        "torch.from_numpy(x)"
      ],
      "execution_count": 5,
      "outputs": [
        {
          "output_type": "stream",
          "text": [
            "[1 2 3]\n"
          ],
          "name": "stdout"
        },
        {
          "output_type": "execute_result",
          "data": {
            "text/plain": [
              "tensor([1, 2, 3])"
            ]
          },
          "metadata": {
            "tags": []
          },
          "execution_count": 5
        }
      ]
    },
    {
      "cell_type": "code",
      "metadata": {
        "id": "RWfY-JjkH_RM"
      },
      "source": [
        "inputs = np.array([[73, 67, 43], \n",
        "                   [91, 88, 64], \n",
        "                   [87, 134, 58], \n",
        "                   [102, 43, 37], \n",
        "                   [69, 96, 70]], dtype='float32')"
      ],
      "execution_count": 6,
      "outputs": []
    },
    {
      "cell_type": "code",
      "metadata": {
        "id": "9pmrf-WuIABu"
      },
      "source": [
        "targets = np.array([[56, 70], \n",
        "                    [81, 101], \n",
        "                    [119, 133], \n",
        "                    [22, 37], \n",
        "                    [103, 119]], dtype='float32')"
      ],
      "execution_count": 7,
      "outputs": []
    },
    {
      "cell_type": "code",
      "metadata": {
        "colab": {
          "base_uri": "https://localhost:8080/"
        },
        "id": "spJP-4k6IDbO",
        "outputId": "e412135c-ac6c-407e-e0b7-50de70ad1e3c"
      },
      "source": [
        "inputs = torch.from_numpy(inputs)\n",
        "targets = torch.from_numpy(targets)\n",
        "print(inputs,targets)"
      ],
      "execution_count": 8,
      "outputs": [
        {
          "output_type": "stream",
          "text": [
            "tensor([[ 73.,  67.,  43.],\n",
            "        [ 91.,  88.,  64.],\n",
            "        [ 87., 134.,  58.],\n",
            "        [102.,  43.,  37.],\n",
            "        [ 69.,  96.,  70.]]) tensor([[ 56.,  70.],\n",
            "        [ 81., 101.],\n",
            "        [119., 133.],\n",
            "        [ 22.,  37.],\n",
            "        [103., 119.]])\n"
          ],
          "name": "stdout"
        }
      ]
    },
    {
      "cell_type": "code",
      "metadata": {
        "colab": {
          "base_uri": "https://localhost:8080/"
        },
        "id": "20DgOKOJIU0c",
        "outputId": "7ddf857c-53c3-4f6c-f60e-ef1ae146bad4"
      },
      "source": [
        "b=torch.randn(2,requires_grad=True)\n",
        "w = torch.randn(2,3,requires_grad=True)\n",
        "print(b,w)\n",
        "print(w.t())"
      ],
      "execution_count": 9,
      "outputs": [
        {
          "output_type": "stream",
          "text": [
            "tensor([0.0470, 0.1657], requires_grad=True) tensor([[ 0.2219, -0.6418, -0.1868],\n",
            "        [ 0.1969, -0.7191,  0.9043]], requires_grad=True)\n",
            "tensor([[ 0.2219,  0.1969],\n",
            "        [-0.6418, -0.7191],\n",
            "        [-0.1868,  0.9043]], grad_fn=<TBackward>)\n"
          ],
          "name": "stdout"
        }
      ]
    },
    {
      "cell_type": "code",
      "metadata": {
        "id": "o-fr67z0J3Nj"
      },
      "source": [
        "def model(x):\n",
        "  return x @ w.t() + b"
      ],
      "execution_count": 10,
      "outputs": []
    },
    {
      "cell_type": "code",
      "metadata": {
        "colab": {
          "base_uri": "https://localhost:8080/"
        },
        "id": "VI1qUe00KYPF",
        "outputId": "3bfd667f-59ba-4ff5-e091-20d478e89742"
      },
      "source": [
        "preds = model(inputs)\n",
        "print(preds)"
      ],
      "execution_count": 11,
      "outputs": [
        {
          "output_type": "stream",
          "text": [
            "tensor([[-34.7870,   5.2453],\n",
            "        [-48.1933,  12.6791],\n",
            "        [-77.4825, -26.6109],\n",
            "        [-11.8283,  22.7863],\n",
            "        [-59.3300,   8.0212]], grad_fn=<AddBackward0>)\n"
          ],
          "name": "stdout"
        }
      ]
    },
    {
      "cell_type": "code",
      "metadata": {
        "colab": {
          "base_uri": "https://localhost:8080/"
        },
        "id": "-F6VPrSNLOLw",
        "outputId": "dd541cc8-2720-4dfa-c742-e0cdfe8a104c"
      },
      "source": [
        "diff = targets - preds\n",
        "print(diff*diff)\n",
        "torch.sum(diff*diff)\n",
        "torch.numel(diff*diff)"
      ],
      "execution_count": 12,
      "outputs": [
        {
          "output_type": "stream",
          "text": [
            "tensor([[ 8242.2803,  4193.1660],\n",
            "        [16690.9004,  7800.5786],\n",
            "        [38605.3555, 25475.6309],\n",
            "        [ 1144.3552,   202.0302],\n",
            "        [26351.0391, 12316.2852]], grad_fn=<MulBackward0>)\n"
          ],
          "name": "stdout"
        },
        {
          "output_type": "execute_result",
          "data": {
            "text/plain": [
              "10"
            ]
          },
          "metadata": {
            "tags": []
          },
          "execution_count": 12
        }
      ]
    },
    {
      "cell_type": "code",
      "metadata": {
        "id": "YSMebhZYKeKN"
      },
      "source": [
        "def mse(preds):\n",
        "  diff = targets - preds\n",
        "  diffs = diff * diff\n",
        "  return torch.sum(diffs)/torch.numel(diffs)"
      ],
      "execution_count": 13,
      "outputs": []
    },
    {
      "cell_type": "code",
      "metadata": {
        "colab": {
          "base_uri": "https://localhost:8080/"
        },
        "id": "oUqylLd4MXmd",
        "outputId": "6a844f0c-ed8b-4612-b6af-4e1fd9b701a4"
      },
      "source": [
        "loss = mse(preds)\n",
        "print(loss)"
      ],
      "execution_count": 14,
      "outputs": [
        {
          "output_type": "stream",
          "text": [
            "tensor(14102.1621, grad_fn=<DivBackward0>)\n"
          ],
          "name": "stdout"
        }
      ]
    },
    {
      "cell_type": "code",
      "metadata": {
        "id": "EDVoiXLOM2aw"
      },
      "source": [
        "loss.backward()"
      ],
      "execution_count": 15,
      "outputs": []
    },
    {
      "cell_type": "code",
      "metadata": {
        "colab": {
          "base_uri": "https://localhost:8080/"
        },
        "id": "5R7iHODxN7lB",
        "outputId": "bb106e66-fdec-463f-d20d-27b5531bf43e"
      },
      "source": [
        "print(b.grad)\n",
        "print(w.grad)"
      ],
      "execution_count": 16,
      "outputs": [
        {
          "output_type": "stream",
          "text": [
            "tensor([-122.5242,  -87.5758])\n",
            "tensor([[-10025.8545, -12163.7363,  -7236.5884],\n",
            "        [ -7151.5547,  -8952.7617,  -5197.7681]])\n"
          ],
          "name": "stdout"
        }
      ]
    },
    {
      "cell_type": "code",
      "metadata": {
        "id": "cs7SojjlQdfT"
      },
      "source": [
        "with torch.no_grad():\n",
        "  w -= (w.grad)*1e-5\n",
        "  b -= (b.grad)*1e-5\n",
        "  w.grad.zero_()\n",
        "  b.grad.zero_()"
      ],
      "execution_count": 17,
      "outputs": []
    },
    {
      "cell_type": "code",
      "metadata": {
        "colab": {
          "base_uri": "https://localhost:8080/"
        },
        "id": "eXYaOB2vSscV",
        "outputId": "8bf38688-7349-4b3c-e88d-bdbd0b81679a"
      },
      "source": [
        "print(w,b)"
      ],
      "execution_count": 18,
      "outputs": [
        {
          "output_type": "stream",
          "text": [
            "tensor([[ 0.3222, -0.5202, -0.1144],\n",
            "        [ 0.2684, -0.6295,  0.9563]], requires_grad=True) tensor([0.0482, 0.1665], requires_grad=True)\n"
          ],
          "name": "stdout"
        }
      ]
    },
    {
      "cell_type": "code",
      "metadata": {
        "colab": {
          "base_uri": "https://localhost:8080/"
        },
        "id": "HCDwOlMjSz0i",
        "outputId": "df9083e4-1a78-45c3-b583-64c144ace283"
      },
      "source": [
        "preds = model(inputs)\n",
        "loss = mse(preds)\n",
        "print(loss)"
      ],
      "execution_count": 19,
      "outputs": [
        {
          "output_type": "stream",
          "text": [
            "tensor(9920.1191, grad_fn=<DivBackward0>)\n"
          ],
          "name": "stdout"
        }
      ]
    },
    {
      "cell_type": "code",
      "metadata": {
        "colab": {
          "base_uri": "https://localhost:8080/"
        },
        "id": "xsAkWX5cTmEV",
        "outputId": "2247fe3c-06d6-496b-a908-88e526732619"
      },
      "source": [
        "for i in range(100):\n",
        "  preds = model(inputs)\n",
        "  loss = mse(preds)\n",
        "  print(loss)\n",
        "  loss.backward()\n",
        "  with torch.no_grad():\n",
        "    w -= (w.grad)*1e-5\n",
        "    b -= (b.grad)*1e-5\n",
        "    w.grad.zero_()\n",
        "    b.grad.zero_()"
      ],
      "execution_count": 31,
      "outputs": [
        {
          "output_type": "stream",
          "text": [
            "tensor(4.1224, grad_fn=<DivBackward0>)\n",
            "tensor(4.1151, grad_fn=<DivBackward0>)\n",
            "tensor(4.1079, grad_fn=<DivBackward0>)\n",
            "tensor(4.1007, grad_fn=<DivBackward0>)\n",
            "tensor(4.0934, grad_fn=<DivBackward0>)\n",
            "tensor(4.0863, grad_fn=<DivBackward0>)\n",
            "tensor(4.0791, grad_fn=<DivBackward0>)\n",
            "tensor(4.0720, grad_fn=<DivBackward0>)\n",
            "tensor(4.0648, grad_fn=<DivBackward0>)\n",
            "tensor(4.0577, grad_fn=<DivBackward0>)\n",
            "tensor(4.0507, grad_fn=<DivBackward0>)\n",
            "tensor(4.0436, grad_fn=<DivBackward0>)\n",
            "tensor(4.0365, grad_fn=<DivBackward0>)\n",
            "tensor(4.0295, grad_fn=<DivBackward0>)\n",
            "tensor(4.0225, grad_fn=<DivBackward0>)\n",
            "tensor(4.0155, grad_fn=<DivBackward0>)\n",
            "tensor(4.0086, grad_fn=<DivBackward0>)\n",
            "tensor(4.0016, grad_fn=<DivBackward0>)\n",
            "tensor(3.9947, grad_fn=<DivBackward0>)\n",
            "tensor(3.9878, grad_fn=<DivBackward0>)\n",
            "tensor(3.9809, grad_fn=<DivBackward0>)\n",
            "tensor(3.9740, grad_fn=<DivBackward0>)\n",
            "tensor(3.9671, grad_fn=<DivBackward0>)\n",
            "tensor(3.9603, grad_fn=<DivBackward0>)\n",
            "tensor(3.9534, grad_fn=<DivBackward0>)\n",
            "tensor(3.9467, grad_fn=<DivBackward0>)\n",
            "tensor(3.9399, grad_fn=<DivBackward0>)\n",
            "tensor(3.9331, grad_fn=<DivBackward0>)\n",
            "tensor(3.9263, grad_fn=<DivBackward0>)\n",
            "tensor(3.9196, grad_fn=<DivBackward0>)\n",
            "tensor(3.9129, grad_fn=<DivBackward0>)\n",
            "tensor(3.9062, grad_fn=<DivBackward0>)\n",
            "tensor(3.8995, grad_fn=<DivBackward0>)\n",
            "tensor(3.8928, grad_fn=<DivBackward0>)\n",
            "tensor(3.8862, grad_fn=<DivBackward0>)\n",
            "tensor(3.8795, grad_fn=<DivBackward0>)\n",
            "tensor(3.8729, grad_fn=<DivBackward0>)\n",
            "tensor(3.8663, grad_fn=<DivBackward0>)\n",
            "tensor(3.8597, grad_fn=<DivBackward0>)\n",
            "tensor(3.8532, grad_fn=<DivBackward0>)\n",
            "tensor(3.8466, grad_fn=<DivBackward0>)\n",
            "tensor(3.8401, grad_fn=<DivBackward0>)\n",
            "tensor(3.8336, grad_fn=<DivBackward0>)\n",
            "tensor(3.8271, grad_fn=<DivBackward0>)\n",
            "tensor(3.8206, grad_fn=<DivBackward0>)\n",
            "tensor(3.8141, grad_fn=<DivBackward0>)\n",
            "tensor(3.8077, grad_fn=<DivBackward0>)\n",
            "tensor(3.8012, grad_fn=<DivBackward0>)\n",
            "tensor(3.7948, grad_fn=<DivBackward0>)\n",
            "tensor(3.7884, grad_fn=<DivBackward0>)\n",
            "tensor(3.7820, grad_fn=<DivBackward0>)\n",
            "tensor(3.7756, grad_fn=<DivBackward0>)\n",
            "tensor(3.7693, grad_fn=<DivBackward0>)\n",
            "tensor(3.7629, grad_fn=<DivBackward0>)\n",
            "tensor(3.7566, grad_fn=<DivBackward0>)\n",
            "tensor(3.7503, grad_fn=<DivBackward0>)\n",
            "tensor(3.7440, grad_fn=<DivBackward0>)\n",
            "tensor(3.7377, grad_fn=<DivBackward0>)\n",
            "tensor(3.7315, grad_fn=<DivBackward0>)\n",
            "tensor(3.7252, grad_fn=<DivBackward0>)\n",
            "tensor(3.7190, grad_fn=<DivBackward0>)\n",
            "tensor(3.7127, grad_fn=<DivBackward0>)\n",
            "tensor(3.7065, grad_fn=<DivBackward0>)\n",
            "tensor(3.7003, grad_fn=<DivBackward0>)\n",
            "tensor(3.6941, grad_fn=<DivBackward0>)\n",
            "tensor(3.6880, grad_fn=<DivBackward0>)\n",
            "tensor(3.6818, grad_fn=<DivBackward0>)\n",
            "tensor(3.6757, grad_fn=<DivBackward0>)\n",
            "tensor(3.6696, grad_fn=<DivBackward0>)\n",
            "tensor(3.6635, grad_fn=<DivBackward0>)\n",
            "tensor(3.6574, grad_fn=<DivBackward0>)\n",
            "tensor(3.6513, grad_fn=<DivBackward0>)\n",
            "tensor(3.6452, grad_fn=<DivBackward0>)\n",
            "tensor(3.6392, grad_fn=<DivBackward0>)\n",
            "tensor(3.6332, grad_fn=<DivBackward0>)\n",
            "tensor(3.6271, grad_fn=<DivBackward0>)\n",
            "tensor(3.6211, grad_fn=<DivBackward0>)\n",
            "tensor(3.6151, grad_fn=<DivBackward0>)\n",
            "tensor(3.6091, grad_fn=<DivBackward0>)\n",
            "tensor(3.6032, grad_fn=<DivBackward0>)\n",
            "tensor(3.5972, grad_fn=<DivBackward0>)\n",
            "tensor(3.5913, grad_fn=<DivBackward0>)\n",
            "tensor(3.5854, grad_fn=<DivBackward0>)\n",
            "tensor(3.5795, grad_fn=<DivBackward0>)\n",
            "tensor(3.5736, grad_fn=<DivBackward0>)\n",
            "tensor(3.5677, grad_fn=<DivBackward0>)\n",
            "tensor(3.5618, grad_fn=<DivBackward0>)\n",
            "tensor(3.5559, grad_fn=<DivBackward0>)\n",
            "tensor(3.5501, grad_fn=<DivBackward0>)\n",
            "tensor(3.5442, grad_fn=<DivBackward0>)\n",
            "tensor(3.5384, grad_fn=<DivBackward0>)\n",
            "tensor(3.5326, grad_fn=<DivBackward0>)\n",
            "tensor(3.5268, grad_fn=<DivBackward0>)\n",
            "tensor(3.5210, grad_fn=<DivBackward0>)\n",
            "tensor(3.5153, grad_fn=<DivBackward0>)\n",
            "tensor(3.5095, grad_fn=<DivBackward0>)\n",
            "tensor(3.5038, grad_fn=<DivBackward0>)\n",
            "tensor(3.4980, grad_fn=<DivBackward0>)\n",
            "tensor(3.4923, grad_fn=<DivBackward0>)\n",
            "tensor(3.4866, grad_fn=<DivBackward0>)\n"
          ],
          "name": "stdout"
        }
      ]
    },
    {
      "cell_type": "code",
      "metadata": {
        "colab": {
          "base_uri": "https://localhost:8080/"
        },
        "id": "JZpx3a2MT9y6",
        "outputId": "6d6bee2d-1b57-4c7f-88ee-27a6db3deac6"
      },
      "source": [
        "preds = model(inputs)\n",
        "loss = mse(preds)\n",
        "print(loss)"
      ],
      "execution_count": 32,
      "outputs": [
        {
          "output_type": "stream",
          "text": [
            "tensor(3.4809, grad_fn=<DivBackward0>)\n"
          ],
          "name": "stdout"
        }
      ]
    },
    {
      "cell_type": "code",
      "metadata": {
        "colab": {
          "base_uri": "https://localhost:8080/"
        },
        "id": "OUsgs8HtU46H",
        "outputId": "b6a4a4ab-7494-431a-c664-bc4a58c6e4c2"
      },
      "source": [
        "print(preds)\n",
        "print(targets)"
      ],
      "execution_count": 33,
      "outputs": [
        {
          "output_type": "stream",
          "text": [
            "tensor([[ 57.3504,  70.2212],\n",
            "        [ 81.0675, 101.9401],\n",
            "        [120.9867, 130.2119],\n",
            "        [ 21.9859,  36.4814],\n",
            "        [ 99.4196, 121.6906]], grad_fn=<AddBackward0>)\n",
            "tensor([[ 56.,  70.],\n",
            "        [ 81., 101.],\n",
            "        [119., 133.],\n",
            "        [ 22.,  37.],\n",
            "        [103., 119.]])\n"
          ],
          "name": "stdout"
        }
      ]
    }
  ]
}