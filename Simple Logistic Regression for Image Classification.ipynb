{
  "nbformat": 4,
  "nbformat_minor": 0,
  "metadata": {
    "colab": {
      "name": "pytorch logistic reg.ipynb",
      "provenance": [],
      "authorship_tag": "ABX9TyMM4oTPTDDQD+Eybgc6jgnN",
      "include_colab_link": true
    },
    "kernelspec": {
      "name": "python3",
      "display_name": "Python 3"
    },
    "language_info": {
      "name": "python"
    }
  },
  "cells": [
    {
      "cell_type": "markdown",
      "metadata": {
        "id": "view-in-github",
        "colab_type": "text"
      },
      "source": [
        "<a href=\"https://colab.research.google.com/github/mihirgupte/pytorch-exercises/blob/main/Simple%20Logistic%20Regression%20for%20Image%20Classification.ipynb\" target=\"_parent\"><img src=\"https://colab.research.google.com/assets/colab-badge.svg\" alt=\"Open In Colab\"/></a>"
      ]
    },
    {
      "cell_type": "code",
      "metadata": {
        "id": "T3cFZXXNtNh-"
      },
      "source": [
        "import torch\n",
        "import torchvision\n",
        "from torchvision.datasets import MNIST\n",
        "import torchvision.transforms as transforms\n",
        "import numpy as np\n",
        "import torch.nn.functional as F"
      ],
      "execution_count": 55,
      "outputs": []
    },
    {
      "cell_type": "code",
      "metadata": {
        "id": "lHGy2JlOtfhP"
      },
      "source": [
        "dataset = MNIST(root=\"/data\",download=True)"
      ],
      "execution_count": null,
      "outputs": []
    },
    {
      "cell_type": "code",
      "metadata": {
        "id": "vlQF0yIqtrJz"
      },
      "source": [
        "import matplotlib.pyplot as plt\n",
        "%matplotlib inline"
      ],
      "execution_count": 3,
      "outputs": []
    },
    {
      "cell_type": "code",
      "metadata": {
        "colab": {
          "base_uri": "https://localhost:8080/",
          "height": 283
        },
        "id": "aR1uQDMWuRuS",
        "outputId": "26cdb722-234c-4d86-83b8-4455363ede15"
      },
      "source": [
        "image, label = dataset[5]\n",
        "plt.imshow(image,cmap='gray')\n",
        "print(\"Label:\",label)"
      ],
      "execution_count": 8,
      "outputs": [
        {
          "output_type": "stream",
          "text": [
            "Label: 2\n"
          ],
          "name": "stdout"
        },
        {
          "output_type": "display_data",
          "data": {
            "image/png": "[encoded data removed]",
            "text/plain": [
              "<Figure size 432x288 with 1 Axes>"
            ]
          },
          "metadata": {
            "tags": [],
            "needs_background": "light"
          }
        }
      ]
    },
    {
      "cell_type": "code",
      "metadata": {
        "id": "i-ududOJvNXG"
      },
      "source": [
        "dataset = MNIST(root=\"/data\",train=True,transform=transforms.ToTensor())"
      ],
      "execution_count": 10,
      "outputs": []
    },
    {
      "cell_type": "code",
      "metadata": {
        "colab": {
          "base_uri": "https://localhost:8080/"
        },
        "id": "B-WYS2m0vXYr",
        "outputId": "3720c23e-b998-4f66-d180-c4c51a91b485"
      },
      "source": [
        "image_tensor, label = dataset[5]\n",
        "image_tensor[:,15:20,5:15]"
      ],
      "execution_count": 25,
      "outputs": [
        {
          "output_type": "execute_result",
          "data": {
            "text/plain": [
              "tensor([[[0.0000, 0.0000, 0.0000, 0.0196, 0.2118, 0.8902, 0.9882, 0.9529,\n",
              "          0.8941, 0.6667],\n",
              "         [0.0000, 0.0000, 0.0235, 0.3059, 0.9882, 0.9882, 0.4902, 0.2314,\n",
              "          0.0000, 0.0706],\n",
              "         [0.0000, 0.0196, 0.5294, 0.9882, 0.9882, 0.7059, 0.0627, 0.0000,\n",
              "          0.0824, 0.7961],\n",
              "         [0.0118, 0.5333, 0.9882, 0.9451, 0.4157, 0.0667, 0.0000, 0.2078,\n",
              "          0.7843, 0.9882],\n",
              "         [0.4118, 0.9882, 0.9490, 0.3451, 0.0706, 0.2863, 0.6667, 0.9569,\n",
              "          0.9882, 0.4941]]])"
            ]
          },
          "metadata": {
            "tags": []
          },
          "execution_count": 25
        }
      ]
    },
    {
      "cell_type": "code",
      "metadata": {
        "colab": {
          "base_uri": "https://localhost:8080/",
          "height": 233
        },
        "id": "mZPMIRCOyB39",
        "outputId": "8ad6cefb-f1cd-485a-b0f4-ae118d454770"
      },
      "source": [
        "plt.imshow(image_tensor[0,15:20,5:15],cmap='gray')"
      ],
      "execution_count": 28,
      "outputs": [
        {
          "output_type": "execute_result",
          "data": {
            "text/plain": [
              "<matplotlib.image.AxesImage at 0x7fe3fd903550>"
            ]
          },
          "metadata": {
            "tags": []
          },
          "execution_count": 28
        },
        {
          "output_type": "display_data",
          "data": {
            "image/png": "[encoded data removed]",
            "text/plain": [
              "<Figure size 432x288 with 1 Axes>"
            ]
          },
          "metadata": {
            "tags": [],
            "needs_background": "light"
          }
        }
      ]
    },
    {
      "cell_type": "code",
      "metadata": {
        "id": "JXylYYzYyKGI"
      },
      "source": [
        "from torch.utils.data import random_split,DataLoader\n",
        "train_set, val_set = random_split(dataset,[50000,10000])\n",
        "batch_size = 128\n",
        "train_dl = DataLoader(train_set,batch_size,shuffle=True)\n",
        "val_dl = DataLoader(val_set,batch_size)"
      ],
      "execution_count": 33,
      "outputs": []
    },
    {
      "cell_type": "code",
      "metadata": {
        "colab": {
          "base_uri": "https://localhost:8080/"
        },
        "id": "CUvRSQZU25dB",
        "outputId": "c27f9d5c-7ad6-4110-b2dd-a1e63d614762"
      },
      "source": [
        "import torch.nn as nn\n",
        "size = 28*28\n",
        "out = 10\n",
        "model = nn.Linear(size,out)\n",
        "print(model.weight,model.bias)"
      ],
      "execution_count": 112,
      "outputs": [
        {
          "output_type": "stream",
          "text": [
            "Parameter containing:\n",
            "tensor([[ 0.0179, -0.0246,  0.0076,  ..., -0.0214,  0.0012, -0.0192],\n",
            "        [-0.0296,  0.0347, -0.0270,  ..., -0.0279,  0.0261, -0.0337],\n",
            "        [-0.0250, -0.0039, -0.0185,  ...,  0.0319, -0.0122, -0.0282],\n",
            "        ...,\n",
            "        [-0.0339, -0.0127, -0.0264,  ..., -0.0098,  0.0290,  0.0069],\n",
            "        [ 0.0213, -0.0162, -0.0219,  ...,  0.0036,  0.0312,  0.0348],\n",
            "        [-0.0262,  0.0128, -0.0244,  ...,  0.0103,  0.0205,  0.0144]],\n",
            "       requires_grad=True) Parameter containing:\n",
            "tensor([-0.0026,  0.0137,  0.0290,  0.0140, -0.0067, -0.0260, -0.0141,  0.0278,\n",
            "         0.0322,  0.0262], requires_grad=True)\n"
          ],
          "name": "stdout"
        }
      ]
    },
    {
      "cell_type": "code",
      "metadata": {
        "id": "wyLYcYxL3Y-G"
      },
      "source": [
        "class CustModel(nn.Module):\n",
        "  size = 28*28\n",
        "  def __init__(self):\n",
        "    super().__init__()\n",
        "    self.linear = nn.Linear(self.size,out)\n",
        "  def forward(self,data):\n",
        "    data = data.reshape(-1,28*28)\n",
        "    out = self.linear(data)\n",
        "    return out\n",
        "\n",
        "model = CustModel()"
      ],
      "execution_count": 115,
      "outputs": []
    },
    {
      "cell_type": "code",
      "metadata": {
        "colab": {
          "base_uri": "https://localhost:8080/"
        },
        "id": "pb_G0Jdd6PJI",
        "outputId": "758acc67-daa0-4c41-fa54-4fe2c6128f62"
      },
      "source": [
        "for images,labels in train_dl:\n",
        "  print(images.shape)\n",
        "  out = model(images)\n",
        "  print(out.shape)\n",
        "  break\n",
        "list(model.parameters())"
      ],
      "execution_count": 53,
      "outputs": [
        {
          "output_type": "stream",
          "text": [
            "torch.Size([128, 1, 28, 28])\n",
            "torch.Size([128, 10])\n"
          ],
          "name": "stdout"
        },
        {
          "output_type": "execute_result",
          "data": {
            "text/plain": [
              "[Parameter containing:\n",
              " tensor([[ 0.0347,  0.0037, -0.0246,  ...,  0.0287,  0.0266, -0.0177],\n",
              "         [-0.0259, -0.0079, -0.0275,  ..., -0.0261, -0.0292, -0.0018],\n",
              "         [-0.0324, -0.0227, -0.0017,  ..., -0.0327,  0.0343,  0.0326],\n",
              "         ...,\n",
              "         [-0.0045, -0.0126, -0.0290,  ...,  0.0338,  0.0270,  0.0064],\n",
              "         [-0.0335, -0.0046, -0.0287,  ...,  0.0053, -0.0112, -0.0246],\n",
              "         [ 0.0013, -0.0124,  0.0265,  ..., -0.0033,  0.0008, -0.0042]],\n",
              "        requires_grad=True), Parameter containing:\n",
              " tensor([-0.0262, -0.0247,  0.0321, -0.0167,  0.0347, -0.0221, -0.0131,  0.0215,\n",
              "          0.0182, -0.0251], requires_grad=True)]"
            ]
          },
          "metadata": {
            "tags": []
          },
          "execution_count": 53
        }
      ]
    },
    {
      "cell_type": "code",
      "metadata": {
        "colab": {
          "base_uri": "https://localhost:8080/"
        },
        "id": "Ma535V2o7Icd",
        "outputId": "baff3644-3e5a-4ac6-ab08-19be9605c6e2"
      },
      "source": [
        "probs = F.softmax(out,dim=1)\n",
        "print(out[0])\n",
        "print(probs[0])\n",
        "print(torch.sum(probs[0]))"
      ],
      "execution_count": 58,
      "outputs": [
        {
          "output_type": "stream",
          "text": [
            "tensor([-0.0849, -0.1472, -0.0128,  0.1258, -0.1286,  0.0744,  0.1196, -0.2891,\n",
            "        -0.1253, -0.0486], grad_fn=<SelectBackward>)\n",
            "tensor([0.0960, 0.0902, 0.1032, 0.1185, 0.0919, 0.1126, 0.1178, 0.0783, 0.0922,\n",
            "        0.0995], grad_fn=<SelectBackward>)\n",
            "tensor(1.0000, grad_fn=<SumBackward0>)\n"
          ],
          "name": "stdout"
        }
      ]
    },
    {
      "cell_type": "code",
      "metadata": {
        "colab": {
          "base_uri": "https://localhost:8080/"
        },
        "id": "CLE9UYSe81Qv",
        "outputId": "7abb0a25-7248-4c28-b10c-2ef232a0920c"
      },
      "source": [
        "max_prob, pred  = torch.max(probs,dim=1)\n",
        "print(pred)\n",
        "print(labels)"
      ],
      "execution_count": 63,
      "outputs": [
        {
          "output_type": "stream",
          "text": [
            "tensor([3, 5, 5, 6, 5, 6, 6, 3, 0, 7, 1, 6, 6, 3, 0, 6, 4, 5, 2, 3, 6, 6, 0, 4,\n",
            "        6, 5, 4, 3, 3, 4, 3, 3, 5, 3, 0, 3, 3, 3, 6, 4, 5, 7, 6, 3, 4, 4, 6, 1,\n",
            "        6, 6, 4, 6, 1, 6, 2, 6, 6, 3, 6, 6, 6, 9, 0, 5, 3, 6, 3, 4, 5, 0, 4, 6,\n",
            "        4, 3, 0, 6, 6, 7, 4, 2, 6, 4, 1, 0, 4, 5, 3, 4, 5, 3, 6, 6, 3, 6, 0, 3,\n",
            "        7, 7, 6, 6, 6, 6, 6, 0, 0, 6, 1, 7, 5, 3, 7, 4, 4, 5, 2, 3, 6, 4, 5, 3,\n",
            "        3, 3, 5, 6, 6, 6, 1, 3])\n",
            "tensor([8, 8, 6, 3, 8, 7, 0, 3, 0, 9, 5, 5, 2, 3, 6, 4, 8, 5, 2, 4, 4, 7, 6, 6,\n",
            "        9, 2, 2, 4, 8, 9, 4, 7, 9, 6, 6, 3, 9, 8, 4, 7, 8, 4, 1, 2, 6, 1, 0, 6,\n",
            "        0, 8, 1, 0, 5, 2, 9, 4, 7, 5, 4, 4, 4, 9, 0, 9, 5, 5, 4, 1, 6, 0, 1, 3,\n",
            "        1, 2, 0, 3, 3, 0, 4, 2, 5, 5, 0, 6, 1, 9, 4, 1, 6, 2, 0, 1, 8, 4, 9, 8,\n",
            "        7, 9, 3, 0, 9, 4, 4, 2, 4, 0, 2, 9, 4, 4, 7, 1, 1, 3, 9, 9, 7, 5, 9, 5,\n",
            "        5, 2, 0, 7, 8, 7, 7, 8])\n"
          ],
          "name": "stdout"
        }
      ]
    },
    {
      "cell_type": "code",
      "metadata": {
        "id": "4HPU_CFh_BkU"
      },
      "source": [
        "def accuracy(l1,l2):\n",
        "  _,pred = torch.max(l1,dim=1)\n",
        "  return torch.sum(pred==l2).item()/len(l2)"
      ],
      "execution_count": 83,
      "outputs": []
    },
    {
      "cell_type": "code",
      "metadata": {
        "id": "0QQlHOJq_j2y"
      },
      "source": [
        "loss_fn = F.cross_entropy\n",
        "loss = loss_fn(out,labels)"
      ],
      "execution_count": 71,
      "outputs": []
    },
    {
      "cell_type": "code",
      "metadata": {
        "id": "cC32q2HmBftT"
      },
      "source": [
        "learning_rate = 0.001\n",
        "opt = torch.optim.SGD(model.parameters(),lr=learning_rate)"
      ],
      "execution_count": 73,
      "outputs": []
    },
    {
      "cell_type": "code",
      "metadata": {
        "id": "61Zfr2_0BvjP"
      },
      "source": [
        "def loss_batch(model,input_val,actual_val,loss_fn,opt,metric):\n",
        "  pred = model(input_val)\n",
        "  loss = loss_fn(pred,actual_val)\n",
        "  with torch.no_grad():\n",
        "    loss.backward()\n",
        "    opt.step()\n",
        "    opt.zero_grad()\n",
        "\n",
        "  return loss.item(),len(input_val),metric(pred,actual_val)"
      ],
      "execution_count": 103,
      "outputs": []
    },
    {
      "cell_type": "code",
      "metadata": {
        "id": "vIeZH7FWEEWI"
      },
      "source": [
        "def evaluate(model,val_dl,loss_fn,opt,metric):\n",
        "  #with torch.no_grad():\n",
        "  results = [loss_batch(model,x,y,loss_fn,opt,metric) for x,y in val_dl]\n",
        "  loss,num,metrics = zip(*results)\n",
        "  total = np.sum(num)\n",
        "  avg_loss = np.sum(np.multiply(loss,num))/total\n",
        "  avg_metric = np.sum(np.multiply(metrics,num))/total\n",
        "  return avg_loss,avg_metric,total"
      ],
      "execution_count": 118,
      "outputs": []
    },
    {
      "cell_type": "code",
      "metadata": {
        "colab": {
          "base_uri": "https://localhost:8080/"
        },
        "id": "FZAoBoaYGNNY",
        "outputId": "aa2e342b-57a3-4fef-9bfe-088afb219bc3"
      },
      "source": [
        "evaluate(model,val_dl,loss_fn,opt,accuracy)"
      ],
      "execution_count": 119,
      "outputs": [
        {
          "output_type": "execute_result",
          "data": {
            "text/plain": [
              "(1.8920062843322754, 0.6677, 10000)"
            ]
          },
          "metadata": {
            "tags": []
          },
          "execution_count": 119
        }
      ]
    },
    {
      "cell_type": "code",
      "metadata": {
        "id": "piPR7wu4K-d_"
      },
      "source": [
        "def fit(epochs,model,loss_fn,opt,train_dl,val_dl,metric):\n",
        "  for epoch in range(epochs):\n",
        "\n",
        "    for x,y in train_dl:\n",
        "      loss,_,_ = loss_batch(model,x,y,loss_fn,opt,accuracy)\n",
        "    result = evaluate(model,val_dl,loss_fn,opt,accuracy)\n",
        "    print(\"Epoch [{}], val_loss: {:.4f}, val_acc: {:.4f}\".format(epoch+1, result[0], result[1]))"
      ],
      "execution_count": 122,
      "outputs": []
    },
    {
      "cell_type": "code",
      "metadata": {
        "id": "5z8N06G5M2tO"
      },
      "source": [
        "model = CustModel()\n",
        "opt = torch.optim.SGD(model.parameters(),lr=0.001)"
      ],
      "execution_count": 120,
      "outputs": []
    },
    {
      "cell_type": "code",
      "metadata": {
        "colab": {
          "base_uri": "https://localhost:8080/"
        },
        "id": "yeblUkoYNSpC",
        "outputId": "2d852b20-3de9-4d30-d260-d4d4ecbdda23"
      },
      "source": [
        "fit(5,model,loss_fn,opt,train_dl,val_dl,accuracy)"
      ],
      "execution_count": 123,
      "outputs": [
        {
          "output_type": "stream",
          "text": [
            "Epoch [1], val_loss: 1.0220, val_acc: 0.8234\n",
            "Epoch [2], val_loss: 0.9529, val_acc: 0.8290\n",
            "Epoch [3], val_loss: 0.8972, val_acc: 0.8340\n",
            "Epoch [4], val_loss: 0.8513, val_acc: 0.8380\n",
            "Epoch [5], val_loss: 0.8128, val_acc: 0.8429\n"
          ],
          "name": "stdout"
        }
      ]
    },
    {
      "cell_type": "code",
      "metadata": {
        "id": "L0wK6WC-PDdx"
      },
      "source": [
        "test_data = MNIST(root='/data',train=False,transform=transforms.ToTensor())"
      ],
      "execution_count": 142,
      "outputs": []
    },
    {
      "cell_type": "code",
      "metadata": {
        "id": "N0mEs2bfPUHb"
      },
      "source": [
        "def predict_image(model,image):\n",
        "  image = image.unsqueeze(0)\n",
        "  pred = model(image)\n",
        "  _,preds = torch.max(pred,dim=1)\n",
        "  return preds"
      ],
      "execution_count": 137,
      "outputs": []
    },
    {
      "cell_type": "code",
      "metadata": {
        "colab": {
          "base_uri": "https://localhost:8080/",
          "height": 300
        },
        "id": "tttSBLLhQCd2",
        "outputId": "308edebc-1bbb-46b4-9f11-c3371dd59652"
      },
      "source": [
        "import random,math\n",
        "\n",
        "img,val = test_data[math.floor(random.random()*len(train_data))]\n",
        "print(\"Actual: {} , Predicted: {}\".format(val,predict_image(model,img[0]).item()))\n",
        "plt.imshow(img[0],cmap='gray')"
      ],
      "execution_count": 159,
      "outputs": [
        {
          "output_type": "stream",
          "text": [
            "Actual: 1 , Predicted: 1\n"
          ],
          "name": "stdout"
        },
        {
          "output_type": "execute_result",
          "data": {
            "text/plain": [
              "<matplotlib.image.AxesImage at 0x7fe3fd022210>"
            ]
          },
          "metadata": {
            "tags": []
          },
          "execution_count": 159
        },
        {
          "output_type": "display_data",
          "data": {
            "image/png": "[encoded data removed]",
            "text/plain": [
              "<Figure size 432x288 with 1 Axes>"
            ]
          },
          "metadata": {
            "tags": [],
            "needs_background": "light"
          }
        }
      ]
    }
  ]
}